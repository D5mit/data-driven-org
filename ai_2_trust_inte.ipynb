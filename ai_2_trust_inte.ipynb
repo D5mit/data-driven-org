{
 "cells": [
  {
   "cell_type": "markdown",
   "metadata": {},
   "source": [
    "# AI 2 Trust Interpretative"
   ]
  },
  {
   "cell_type": "markdown",
   "metadata": {},
   "source": [
    "## Imports"
   ]
  },
  {
   "cell_type": "code",
   "execution_count": 1,
   "metadata": {},
   "outputs": [],
   "source": [
    "# import pandas module \n",
    "import pandas as pd \n",
    "# import seaborn as sns\n",
    "import matplotlib.pyplot as plt\n",
    "import numpy as np\n",
    "from wordcloud import WordCloud, STOPWORDS, ImageColorGenerator"
   ]
  },
  {
   "cell_type": "markdown",
   "metadata": {},
   "source": [
    "## Functions"
   ]
  },
  {
   "cell_type": "code",
   "execution_count": 2,
   "metadata": {},
   "outputs": [],
   "source": [
    "# function to create word cloud \n",
    "def create_wordcloud(df_cloud, i_column):\n",
    "    \"\"\" \n",
    "    creates a wordcload based on a dataframe column as input. \n",
    "\n",
    "    Parameters: \n",
    "    df_main (data frame): dataframe containing data\n",
    "    i_column (string): Column \n",
    "\n",
    "    Returns: \n",
    "    int: wordcloud\n",
    "\n",
    "    \"\"\"\n",
    "    \n",
    "    # get the text \n",
    "    df_text = df_cloud.dropna(subset=[i_column]) \n",
    "    df_text = df_text[i_column]\n",
    "\n",
    "    # take dataframe and put in text\n",
    "    text = \" \".join(itext for itext in df_text)\n",
    "\n",
    "    stopwords = set(STOPWORDS)\n",
    "    stopwords.update([\"AI\", \"system\", \"organization\", 'application', 'one',  \"will\", \"need\", 'without', 'something', 'make',\n",
    "                       'based', 'stay', 'add', 'day', 'still', 'ie', 'way', 'made', 'market', \"impact\", \"business\", \"needs\", \n",
    "                      'company', 'organisation', 'ensure'])\n",
    "\n",
    "    # Create and generate a word cloud image:\n",
    "    wordcloud = WordCloud(stopwords=stopwords, max_font_size=50, max_words=30, background_color=\"white\").generate(text)\n",
    "\n",
    "    \n",
    "    #change the value in return to set the single color need, in hsl format.\n",
    "    def grey_color_func(word, font_size, position,orientation,random_state=None, **kwargs):\n",
    "#         return(\"hsl(230,100%%, %d%%)\" % np.random.randint(49,51))\n",
    "        return \"hsl(0, 0%%, %d%%)\" % np.random.randint(0, 30)    \n",
    "#         return \"hsl(0, 100%, 0%)\" % np.random.randint(60, 100)    \n",
    "# hsl(0, 100%, 0%)\n",
    "    \n",
    "    #change the color setting\n",
    "    wordcloud.recolor(color_func = grey_color_func)    \n",
    "    \n",
    "    \n",
    "    # Display the generated image:\n",
    "    plt.figure(figsize=(80, 60))    \n",
    "    \n",
    "#     fig.set_size_inches(18.5, 10.5)\n",
    "#     fig.savefig('test2png.png', dpi=100)    \n",
    "    \n",
    "    plt.imshow(wordcloud, interpolation='bilinear')\n",
    "    plt.axis(\"off\")\n",
    "    \n",
    "    plt.savefig('images/test2.png', dpi=100)    \n",
    "    \n",
    "    plt.show()"
   ]
  },
  {
   "cell_type": "markdown",
   "metadata": {},
   "source": [
    "## Prepare Data"
   ]
  },
  {
   "cell_type": "code",
   "execution_count": null,
   "metadata": {
    "pycharm": {
     "is_executing": true
    }
   },
   "outputs": [],
   "source": [
    "# import header file\n",
    "df = pd.read_excel('http://www.d5mit.co.za/artifacts/output.xlsx')\n",
    "\n",
    "df = df[df['ai_transparency_to_trust'].notna()]\n",
    "\n",
    "df.drop('email', axis='columns', inplace=True)\n",
    "df.drop('first_name', axis='columns', inplace=True)\n",
    "df.drop('last_name', axis='columns', inplace=True)\n",
    "df.drop('custom_data', axis='columns', inplace=True)\n",
    "\n",
    "df = df[df['ai_fat_to_trust'].notna()]"
   ]
  },
  {
   "cell_type": "code",
   "execution_count": null,
   "metadata": {
    "pycharm": {
     "is_executing": true
    }
   },
   "outputs": [],
   "source": [
    "df.describe()"
   ]
  },
  {
   "cell_type": "code",
   "execution_count": null,
   "metadata": {
    "pycharm": {
     "is_executing": true
    }
   },
   "outputs": [],
   "source": []
  },
  {
   "cell_type": "markdown",
   "metadata": {},
   "source": [
    "## Data Exploration\n",
    "\n",
    "The questions are in the context of implementing AI applications.\n",
    "\n"
   ]
  },
  {
   "cell_type": "markdown",
   "metadata": {},
   "source": [
    "### Other Ethical considerations"
   ]
  },
  {
   "cell_type": "code",
   "execution_count": null,
   "metadata": {
    "pycharm": {
     "is_executing": true
    }
   },
   "outputs": [],
   "source": [
    "create_wordcloud(df, 'ai_ethical_considerations')"
   ]
  },
  {
   "cell_type": "code",
   "execution_count": null,
   "metadata": {
    "pycharm": {
     "is_executing": true
    }
   },
   "outputs": [],
   "source": []
  },
  {
   "cell_type": "code",
   "execution_count": null,
   "metadata": {
    "pycharm": {
     "is_executing": true
    }
   },
   "outputs": [],
   "source": []
  },
  {
   "cell_type": "code",
   "execution_count": null,
   "metadata": {
    "pycharm": {
     "is_executing": true
    }
   },
   "outputs": [],
   "source": []
  }
 ],
 "metadata": {
  "kernelspec": {
   "display_name": "Python 3 (ipykernel)",
   "language": "python",
   "name": "python3"
  },
  "language_info": {
   "codemirror_mode": {
    "name": "ipython",
    "version": 3
   },
   "file_extension": ".py",
   "mimetype": "text/x-python",
   "name": "python",
   "nbconvert_exporter": "python",
   "pygments_lexer": "ipython3",
   "version": "3.9.6"
  }
 },
 "nbformat": 4,
 "nbformat_minor": 1
}