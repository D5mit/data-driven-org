{
 "cells": [
  {
   "cell_type": "code",
   "execution_count": 1,
   "id": "b9e4f49c",
   "metadata": {},
   "outputs": [
    {
     "name": "stdout",
     "output_type": "stream",
     "text": [
      "    c1  c2\n",
      "0  aaa   1\n",
      "1  bbb   2\n",
      "2  ccc   3\n"
     ]
    }
   ],
   "source": [
    "import pandas as pd\n",
    "\n",
    "\n",
    "df = pd.read_csv('output_list.txt', sep=\" \", header=None, names=[\"a\", \"b\", \"c\"])\n",
    "\n",
    "df = pd.DataFrame({\n",
    "    'col1': ['aaa','1','bbb','2','ccc','3']\n",
    "})\n",
    "\n",
    "df = pd.DataFrame(df.col1.values.reshape(-1,2),columns=['c1','c2'])\n",
    "df.c2 = df.c2.astype(int) # optional to convert col to int\n",
    "\n",
    "print(df)"
   ]
  },
  {
   "cell_type": "code",
   "execution_count": null,
   "id": "909ce435",
   "metadata": {},
   "outputs": [],
   "source": []
  }
 ],
 "metadata": {
  "kernelspec": {
   "display_name": "Python 3 (ipykernel)",
   "language": "python",
   "name": "python3"
  },
  "language_info": {
   "codemirror_mode": {
    "name": "ipython",
    "version": 3
   },
   "file_extension": ".py",
   "mimetype": "text/x-python",
   "name": "python",
   "nbconvert_exporter": "python",
   "pygments_lexer": "ipython3",
   "version": "3.9.6"
  }
 },
 "nbformat": 4,
 "nbformat_minor": 5
}
