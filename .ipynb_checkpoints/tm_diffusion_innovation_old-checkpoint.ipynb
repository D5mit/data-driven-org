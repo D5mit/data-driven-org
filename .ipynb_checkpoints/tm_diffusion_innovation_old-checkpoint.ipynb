{
 "cells": [
  {
   "cell_type": "markdown",
   "id": "bb243f37",
   "metadata": {},
   "source": [
    "### Prepare the environment"
   ]
  },
  {
   "cell_type": "code",
   "execution_count": 4,
   "id": "88e37e0a",
   "metadata": {},
   "outputs": [
    {
     "ename": "ModuleNotFoundError",
     "evalue": "No module named 'lemmatize_stemming'",
     "output_type": "error",
     "traceback": [
      "\u001b[0;31m---------------------------------------------------------------------------\u001b[0m",
      "\u001b[0;31mModuleNotFoundError\u001b[0m                       Traceback (most recent call last)",
      "\u001b[0;32m/tmp/ipykernel_12152/3259092762.py\u001b[0m in \u001b[0;36m<module>\u001b[0;34m\u001b[0m\n\u001b[1;32m      2\u001b[0m \u001b[0;32mimport\u001b[0m \u001b[0mgensim\u001b[0m\u001b[0;34m\u001b[0m\u001b[0;34m\u001b[0m\u001b[0m\n\u001b[1;32m      3\u001b[0m \u001b[0;32mimport\u001b[0m \u001b[0mnltk\u001b[0m\u001b[0;34m\u001b[0m\u001b[0;34m\u001b[0m\u001b[0m\n\u001b[0;32m----> 4\u001b[0;31m \u001b[0;32mimport\u001b[0m \u001b[0mlemmatize_stemming\u001b[0m\u001b[0;34m\u001b[0m\u001b[0;34m\u001b[0m\u001b[0m\n\u001b[0m\u001b[1;32m      5\u001b[0m \u001b[0;32mfrom\u001b[0m \u001b[0mgensim\u001b[0m\u001b[0;34m.\u001b[0m\u001b[0mmodels\u001b[0m\u001b[0;34m.\u001b[0m\u001b[0mphrases\u001b[0m \u001b[0;32mimport\u001b[0m \u001b[0mPhrases\u001b[0m\u001b[0;34m\u001b[0m\u001b[0;34m\u001b[0m\u001b[0m\n\u001b[1;32m      6\u001b[0m \u001b[0;32mfrom\u001b[0m \u001b[0mgensim\u001b[0m\u001b[0;34m.\u001b[0m\u001b[0mparsing\u001b[0m\u001b[0;34m.\u001b[0m\u001b[0mpreprocessing\u001b[0m \u001b[0;32mimport\u001b[0m \u001b[0mpreprocess_string\u001b[0m\u001b[0;34m\u001b[0m\u001b[0;34m\u001b[0m\u001b[0m\n",
      "\u001b[0;31mModuleNotFoundError\u001b[0m: No module named 'lemmatize_stemming'"
     ]
    }
   ],
   "source": [
    "import pandas as pd\n",
    "import gensim\n",
    "import nltk\n",
    "# import lemmatize_stemming\n",
    "from gensim.models.phrases import Phrases\n",
    "from gensim.parsing.preprocessing import preprocess_string\n",
    "from gensim.parsing.preprocessing import strip_tags\n",
    "from gensim.parsing.preprocessing import strip_short\n",
    "from gensim.parsing.preprocessing import strip_multiple_whitespaces\n",
    "from gensim.parsing.preprocessing import remove_stopwords\n",
    "from gensim.parsing.preprocessing import strip_numeric\n",
    "import re\n",
    "from gensim import utils\n",
    "from gensim.corpora.dictionary import Dictionary\n",
    "from gensim.models import ldamodel\n",
    "import pyLDAvis.gensim_models as gensim_models\n",
    "import pyLDAvis\n",
    "import pyLDAvis.gensim_models"
   ]
  },
  {
   "cell_type": "code",
   "execution_count": 5,
   "id": "8c4f25f8",
   "metadata": {},
   "outputs": [
    {
     "ename": "NameError",
     "evalue": "name 're' is not defined",
     "output_type": "error",
     "traceback": [
      "\u001b[0;31m---------------------------------------------------------------------------\u001b[0m",
      "\u001b[0;31mNameError\u001b[0m                                 Traceback (most recent call last)",
      "\u001b[0;32m/tmp/ipykernel_12152/406972693.py\u001b[0m in \u001b[0;36m<module>\u001b[0;34m\u001b[0m\n\u001b[1;32m      1\u001b[0m \u001b[0;31m# removed \"_\" from regular expression\u001b[0m\u001b[0;34m\u001b[0m\u001b[0;34m\u001b[0m\u001b[0;34m\u001b[0m\u001b[0m\n\u001b[1;32m      2\u001b[0m \u001b[0mpunctuation\u001b[0m \u001b[0;34m=\u001b[0m \u001b[0;34mr\"\"\"!\"#$%&'‘()*+,-.\\/:;<=>?@[\\]^`{|}~\"\"\"\u001b[0m\u001b[0;34m\u001b[0m\u001b[0;34m\u001b[0m\u001b[0m\n\u001b[0;32m----> 3\u001b[0;31m \u001b[0mRE_PUNCT\u001b[0m \u001b[0;34m=\u001b[0m \u001b[0mre\u001b[0m\u001b[0;34m.\u001b[0m\u001b[0mcompile\u001b[0m\u001b[0;34m(\u001b[0m\u001b[0;34mr'([%s])+'\u001b[0m \u001b[0;34m%\u001b[0m \u001b[0mre\u001b[0m\u001b[0;34m.\u001b[0m\u001b[0mescape\u001b[0m\u001b[0;34m(\u001b[0m\u001b[0mpunctuation\u001b[0m\u001b[0;34m)\u001b[0m\u001b[0;34m,\u001b[0m \u001b[0mre\u001b[0m\u001b[0;34m.\u001b[0m\u001b[0mUNICODE\u001b[0m\u001b[0;34m)\u001b[0m\u001b[0;34m\u001b[0m\u001b[0;34m\u001b[0m\u001b[0m\n\u001b[0m\u001b[1;32m      4\u001b[0m \u001b[0;34m\u001b[0m\u001b[0m\n\u001b[1;32m      5\u001b[0m \u001b[0;34m\u001b[0m\u001b[0m\n",
      "\u001b[0;31mNameError\u001b[0m: name 're' is not defined"
     ]
    }
   ],
   "source": [
    "# removed \"_\" from regular expression\n",
    "punctuation = r\"\"\"!\"#$%&'‘()*+,-.\\/:;<=>?@[\\]^`{|}~\"\"\"\n",
    "RE_PUNCT = re.compile(r'([%s])+' % re.escape(punctuation), re.UNICODE)\n",
    "\n",
    "\n",
    "def strip_punctuation(s):\n",
    "    s = utils.to_unicode(s)\n",
    "    return RE_PUNCT.sub(\" \", s)\n",
    "\n",
    "def preprocess(text):\n",
    "    result = []\n",
    "    \n",
    "    for token in gensim.utils.simple_preprocess(text):\n",
    "        newStopWords = ['stopword1','stopword2']\n",
    "        if token not in gensim.parsing.preprocessing.STOPWORDS and token not in newStopWords and len(token) > 3:\n",
    "            nltk.bigrams(token)\n",
    "            result.append(lemmatize_stemming(token))\n",
    "    return result\n",
    "\n",
    "\n",
    "def prep_clean_data(input_list):\n",
    "    \n",
    "    input_list = [re.sub(r\"[^a-zA-Z0-9]\", \" \", str(i_list)) for i_list in input_list]\n",
    "\n",
    "    print(input_list[0:10])\n",
    "    \n",
    "    #Preprocess\n",
    "    my_filter = [\n",
    "        lambda x: x.lower(), strip_tags, strip_punctuation,\n",
    "        strip_multiple_whitespaces, strip_numeric,\n",
    "        remove_stopwords, strip_short]\n",
    "\n",
    "    #bigram = Phrases(persuasion_stream, min_count=1, threshold=2)\n",
    "    #persuasion_bigrams = [\"\".join(bigram[i]) for i in persuasion_stream]\n",
    "    preprocess_clean = [preprocess_string(i, filters=my_filter) for i in input_list]\n",
    "\n",
    "  \n",
    "    \n",
    "    print(preprocess_clean[0:5])\n",
    "    \n",
    "    return preprocess_clean\n",
    "\n"
   ]
  },
  {
   "cell_type": "markdown",
   "id": "48522f7d",
   "metadata": {},
   "source": [
    "### Import dataset"
   ]
  },
  {
   "cell_type": "code",
   "execution_count": null,
   "id": "3bb2845b",
   "metadata": {},
   "outputs": [],
   "source": [
    "df_text = pd.read_excel(open('data/diffusion_innovation_open_ended.xls','rb'), sheet_name='diffusion_innovation_open_ended')"
   ]
  },
  {
   "cell_type": "markdown",
   "id": "f7331734",
   "metadata": {},
   "source": [
    "### Knowledge topic model"
   ]
  },
  {
   "cell_type": "code",
   "execution_count": null,
   "id": "b3572f77",
   "metadata": {},
   "outputs": [],
   "source": [
    "knowledge_stream = df_text['knowledge'].tolist()\n",
    "knowledge_clean = prep_clean_data(knowledge_stream)"
   ]
  },
  {
   "cell_type": "code",
   "execution_count": null,
   "id": "56bc48f3",
   "metadata": {},
   "outputs": [],
   "source": [
    "knowledge_clean = preprocess('Share insights')\n",
    "\n",
    "\n",
    "dct_knowledge = Dictionary(knowledge_clean)\n",
    "corpus = [dct_knowledge.doc2bow(doc) for doc in knowledge_clean]\n",
    "print(len(dct_knowledge))\n",
    "print(len(corpus))"
   ]
  },
  {
   "cell_type": "code",
   "execution_count": null,
   "id": "10f49ebd",
   "metadata": {},
   "outputs": [],
   "source": [
    "lda = ldamodel.LdaModel(corpus, id2word=dct_knowledge, num_topics = 5)\n",
    "lda.show_topics(num_words=10)"
   ]
  },
  {
   "cell_type": "code",
   "execution_count": null,
   "id": "8aec97d7",
   "metadata": {},
   "outputs": [],
   "source": [
    "pyLDAvis.enable_notebook()\n",
    "vis = pyLDAvis.gensim_models.prepare(lda, corpus, dct_knowledge)\n",
    "vis"
   ]
  },
  {
   "cell_type": "markdown",
   "id": "2d5d76e0",
   "metadata": {},
   "source": [
    "### Persuasion topic model"
   ]
  },
  {
   "cell_type": "code",
   "execution_count": null,
   "id": "5ff8c711",
   "metadata": {},
   "outputs": [],
   "source": [
    "persuasion_stream = df_text['persuasion'].tolist()\n",
    "persuasion_clean = prep_clean_data(persuasion_stream)"
   ]
  },
  {
   "cell_type": "code",
   "execution_count": null,
   "id": "5ca7bb0f",
   "metadata": {},
   "outputs": [],
   "source": [
    "dct_knowledge = Dictionary(persuasion_clean)\n",
    "corpus = [dct_knowledge.doc2bow(doc) for doc in persuasion_clean]\n",
    "print(len(dct_knowledge))\n",
    "print(len(corpus))"
   ]
  },
  {
   "cell_type": "code",
   "execution_count": null,
   "id": "5338ef43",
   "metadata": {},
   "outputs": [],
   "source": [
    "\n",
    "lda = ldamodel.LdaModel(corpus, id2word=dct_knowledge, num_topics = 4)\n",
    "lda.show_topics(num_words=10)\n",
    "    "
   ]
  },
  {
   "cell_type": "code",
   "execution_count": null,
   "id": "54ce3fb7",
   "metadata": {},
   "outputs": [],
   "source": [
    "pyLDAvis.enable_notebook()\n",
    "vis = pyLDAvis.gensim_models.prepare(lda, corpus, dct_knowledge)\n",
    "vis\n"
   ]
  },
  {
   "cell_type": "code",
   "execution_count": null,
   "id": "0f1a6fb9",
   "metadata": {},
   "outputs": [],
   "source": []
  },
  {
   "cell_type": "code",
   "execution_count": null,
   "id": "b8a30084",
   "metadata": {},
   "outputs": [],
   "source": []
  },
  {
   "cell_type": "code",
   "execution_count": null,
   "id": "00e14eb6",
   "metadata": {},
   "outputs": [],
   "source": []
  }
 ],
 "metadata": {
  "kernelspec": {
   "display_name": "Python 3 (ipykernel)",
   "language": "python",
   "name": "python3"
  },
  "language_info": {
   "codemirror_mode": {
    "name": "ipython",
    "version": 3
   },
   "file_extension": ".py",
   "mimetype": "text/x-python",
   "name": "python",
   "nbconvert_exporter": "python",
   "pygments_lexer": "ipython3",
   "version": "3.9.6"
  }
 },
 "nbformat": 4,
 "nbformat_minor": 5
}
