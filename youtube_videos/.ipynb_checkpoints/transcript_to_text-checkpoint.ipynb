{
 "cells": [
  {
   "cell_type": "code",
   "execution_count": 27,
   "id": "b9e4f49c",
   "metadata": {},
   "outputs": [
    {
     "data": {
      "text/html": [
       "<div>\n",
       "<style scoped>\n",
       "    .dataframe tbody tr th:only-of-type {\n",
       "        vertical-align: middle;\n",
       "    }\n",
       "\n",
       "    .dataframe tbody tr th {\n",
       "        vertical-align: top;\n",
       "    }\n",
       "\n",
       "    .dataframe thead th {\n",
       "        text-align: right;\n",
       "    }\n",
       "</style>\n",
       "<table border=\"1\" class=\"dataframe\">\n",
       "  <thead>\n",
       "    <tr style=\"text-align: right;\">\n",
       "      <th></th>\n",
       "      <th>c1</th>\n",
       "      <th>c2</th>\n",
       "    </tr>\n",
       "  </thead>\n",
       "  <tbody>\n",
       "    <tr>\n",
       "      <th>0</th>\n",
       "      <td>00:00</td>\n",
       "      <td>welcome back</td>\n",
       "    </tr>\n",
       "    <tr>\n",
       "      <th>1</th>\n",
       "      <td>00:02</td>\n",
       "      <td>here we go again great to see you and</td>\n",
       "    </tr>\n",
       "    <tr>\n",
       "      <th>2</th>\n",
       "      <td>00:03</td>\n",
       "      <td>congratulations thank you um you will</td>\n",
       "    </tr>\n",
       "    <tr>\n",
       "      <th>3</th>\n",
       "      <td>00:06</td>\n",
       "      <td>never forget what is going on in the</td>\n",
       "    </tr>\n",
       "    <tr>\n",
       "      <th>4</th>\n",
       "      <td>00:08</td>\n",
       "      <td>world when you think about when your</td>\n",
       "    </tr>\n",
       "    <tr>\n",
       "      <th>...</th>\n",
       "      <td>...</td>\n",
       "      <td>...</td>\n",
       "    </tr>\n",
       "    <tr>\n",
       "      <th>3511</th>\n",
       "      <td>119:57</td>\n",
       "      <td>pleasure elon musk ladies and gentlemen</td>\n",
       "    </tr>\n",
       "    <tr>\n",
       "      <th>3512</th>\n",
       "      <td>119:59</td>\n",
       "      <td>good night</td>\n",
       "    </tr>\n",
       "    <tr>\n",
       "      <th>3513</th>\n",
       "      <td>120:02</td>\n",
       "      <td>all right that should get a little i</td>\n",
       "    </tr>\n",
       "    <tr>\n",
       "      <th>3514</th>\n",
       "      <td>120:03</td>\n",
       "      <td>should get a little play</td>\n",
       "    </tr>\n",
       "    <tr>\n",
       "      <th>3515</th>\n",
       "      <td>120:06</td>\n",
       "      <td>that was great</td>\n",
       "    </tr>\n",
       "  </tbody>\n",
       "</table>\n",
       "<p>3516 rows × 2 columns</p>\n",
       "</div>"
      ],
      "text/plain": [
       "          c1                                       c2\n",
       "0      00:00                             welcome back\n",
       "1      00:02    here we go again great to see you and\n",
       "2      00:03    congratulations thank you um you will\n",
       "3      00:06     never forget what is going on in the\n",
       "4      00:08     world when you think about when your\n",
       "...      ...                                      ...\n",
       "3511  119:57  pleasure elon musk ladies and gentlemen\n",
       "3512  119:59                               good night\n",
       "3513  120:02     all right that should get a little i\n",
       "3514  120:03                 should get a little play\n",
       "3515  120:06                           that was great\n",
       "\n",
       "[3516 rows x 2 columns]"
      ]
     },
     "execution_count": 27,
     "metadata": {},
     "output_type": "execute_result"
    }
   ],
   "source": [
    "import pandas as pd\n",
    "\n",
    "df = pd.read_csv('data/JRE_1470_Elon_Musk.txt', sep=\"$\", header=None, names=['col1'])\n",
    "\n",
    "\n",
    "df = pd.DataFrame(df.col1.values.reshape(-1,2),columns=['timestamp','text'])\n",
    "# df.c2 = df.c2.astype(int) # optional to convert col to int\n",
    "\n",
    "df"
   ]
  },
  {
   "cell_type": "code",
   "execution_count": 28,
   "id": "909ce435",
   "metadata": {},
   "outputs": [],
   "source": [
    "from jinja2 import Environment, FileSystemLoader\n",
    "env = Environment(loader=FileSystemLoader('.'))\n",
    "template = env.get_template(\"generate_pdf.html\")"
   ]
  },
  {
   "cell_type": "code",
   "execution_count": 29,
   "id": "e77d6b2a",
   "metadata": {},
   "outputs": [],
   "source": [
    "template_vars = {\"title\" : \"Joe Rogan Experience #1470 - Elon Musk\",\n",
    "                 \"url\" : \"https://www.youtube.com/watch?v=RcYjXbSJBN8&t=4827s\",\n",
    "                 \"output_pivot_table\": df.to_html()}"
   ]
  },
  {
   "cell_type": "code",
   "execution_count": 30,
   "id": "880c3192",
   "metadata": {},
   "outputs": [],
   "source": [
    "html_out = template.render(template_vars)"
   ]
  },
  {
   "cell_type": "code",
   "execution_count": 31,
   "id": "2f92db68",
   "metadata": {},
   "outputs": [],
   "source": [
    "from weasyprint import HTML\n",
    "HTML(string=html_out).write_pdf(\"report.pdf\")"
   ]
  },
  {
   "cell_type": "code",
   "execution_count": null,
   "id": "a898824e",
   "metadata": {},
   "outputs": [],
   "source": []
  },
  {
   "cell_type": "code",
   "execution_count": null,
   "id": "5bf459d8",
   "metadata": {},
   "outputs": [],
   "source": []
  },
  {
   "cell_type": "code",
   "execution_count": null,
   "id": "deb6dec4",
   "metadata": {},
   "outputs": [],
   "source": []
  },
  {
   "cell_type": "code",
   "execution_count": null,
   "id": "bbee7b95",
   "metadata": {},
   "outputs": [],
   "source": []
  }
 ],
 "metadata": {
  "kernelspec": {
   "display_name": "Python 3 (ipykernel)",
   "language": "python",
   "name": "python3"
  },
  "language_info": {
   "codemirror_mode": {
    "name": "ipython",
    "version": 3
   },
   "file_extension": ".py",
   "mimetype": "text/x-python",
   "name": "python",
   "nbconvert_exporter": "python",
   "pygments_lexer": "ipython3",
   "version": "3.9.6"
  }
 },
 "nbformat": 4,
 "nbformat_minor": 5
}
