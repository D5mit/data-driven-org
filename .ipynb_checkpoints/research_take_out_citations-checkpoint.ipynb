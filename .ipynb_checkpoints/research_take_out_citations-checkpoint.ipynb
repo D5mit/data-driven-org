{
 "cells": [
  {
   "cell_type": "code",
   "execution_count": 112,
   "metadata": {},
   "outputs": [],
   "source": [
    "def replaceTextBetween(originalText, delimeterA, delimterB, replacementText):\n",
    "    leadingText = originalText.split(delimeterA)[0]\n",
    "    trailingText = originalText.split(delimterB)[1]\n",
    "    \n",
    "\n",
    "    return leadingText + replacementText + trailingText"
   ]
  },
  {
   "cell_type": "code",
   "execution_count": 117,
   "metadata": {},
   "outputs": [
    {
     "ename": "SyntaxError",
     "evalue": "EOL while scanning string literal (Temp/ipykernel_23232/3711854411.py, line 1)",
     "output_type": "error",
     "traceback": [
      "\u001b[1;36m  File \u001b[1;32m\"C:\\Users\\DANIES~1\\AppData\\Local\\Temp/ipykernel_23232/3711854411.py\"\u001b[1;36m, line \u001b[1;32m1\u001b[0m\n\u001b[1;33m    in_text = '\u001b[0m\n\u001b[1;37m               ^\u001b[0m\n\u001b[1;31mSyntaxError\u001b[0m\u001b[1;31m:\u001b[0m EOL while scanning string literal\n"
     ]
    }
   ],
   "source": [
    "in_text = '\n",
    "Big data offers organisations opportunities to utilise analytics to achieve new levels of competitive advantage in several different ways \\cite{Chen2017HowRenovation}. Organisations that are becoming data-driven acquire a better understanding of their costs, sales potential, and emerging marketplace opportunities \\cite{Johnson2019TheData-driven}. However,many organisations are only beginning to utilise the full potential of using AI to support analytics and stuggle to adopt AI as part of their analytics portfolio \\cite{Schlegel2018BreakInsights}.\n",
    "\n",
    "Bettoni et al. propose an AI adoption model to support data-driven transformations, and the adoption of AI  \\cite{Bettoni2021AnFramework}. This model includes digitisation, data strategy, human resources, organisational structure, and organisational culture as the main elements \\cite{Bettoni2021AnFramework}. This framework is helpful to identify elements that are required to be addressed but does not include prescriptive information of what can be used to enable the organisation. The same is also true for other frameworks found in the literature \\cite{Mohapatra2019DevelopingIntelligence}. Not specifically related to AI, but useful for data-driven transformations is Pillay et al.`s big data-driven decision making model. It includes a theoretical and organisational support model that demonstrates what needs to be in place within the organisation to enable an efficient big data-driven decision making process \\cite{Pillay2021BigSector}. On the industry side, Google cloud`s AI adoption framework offers an adoption framework that covers aspects such as the power of AI, the creation of value and AI maturity themes \\cite{GoogleGoogleFramework}. Even though this framework seems to be comprehensive, Google cloud`s framework lacks to include socio considerations, such as trust, ethics and fairness \\cite{Crawford2021AtlasAI}. Google has guidelines on responsible AI practices \\cite{GoogleAI2021ResponsiblePractices}. However, Google cloud's AI adoption framework does not specifically mention them \\cite{GoogleGoogleFramework}. \n",
    "\n",
    "AI’s technical capabilities make AI powerful, but the implementation of AI in organisations is not limited to the technical elements and requires a more holistic approach. An AI implementation within an organisation is a socio-technical system, with the interplay between social and technical components \\cite{Wihlborg2013MediatorsChange}. When AI makes decisions that impact people, the socio-considerations in AI adoption frameworks are paramount.\n",
    "\n",
    "\n",
    "'"
   ]
  },
  {
   "cell_type": "code",
   "execution_count": 118,
   "metadata": {},
   "outputs": [],
   "source": [
    "out_text = replaceTextBetween(in_text, '{', '}', '')"
   ]
  },
  {
   "cell_type": "code",
   "execution_count": 119,
   "metadata": {},
   "outputs": [
    {
     "data": {
      "text/plain": [
       "'danie \\\\cite.'"
      ]
     },
     "execution_count": 119,
     "metadata": {},
     "output_type": "execute_result"
    }
   ],
   "source": [
    "out_text"
   ]
  },
  {
   "cell_type": "code",
   "execution_count": 120,
   "metadata": {},
   "outputs": [
    {
     "data": {
      "text/plain": [
       "'danie .'"
      ]
     },
     "execution_count": 120,
     "metadata": {},
     "output_type": "execute_result"
    }
   ],
   "source": [
    "out_text.replace('\\\\cite', '')"
   ]
  },
  {
   "cell_type": "code",
   "execution_count": null,
   "metadata": {},
   "outputs": [],
   "source": []
  },
  {
   "cell_type": "code",
   "execution_count": null,
   "metadata": {},
   "outputs": [],
   "source": []
  },
  {
   "cell_type": "code",
   "execution_count": null,
   "metadata": {},
   "outputs": [],
   "source": []
  }
 ],
 "metadata": {
  "kernelspec": {
   "display_name": "Python 3 (ipykernel)",
   "language": "python",
   "name": "python3"
  },
  "language_info": {
   "codemirror_mode": {
    "name": "ipython",
    "version": 3
   },
   "file_extension": ".py",
   "mimetype": "text/x-python",
   "name": "python",
   "nbconvert_exporter": "python",
   "pygments_lexer": "ipython3",
   "version": "3.9.6"
  }
 },
 "nbformat": 4,
 "nbformat_minor": 1
}
