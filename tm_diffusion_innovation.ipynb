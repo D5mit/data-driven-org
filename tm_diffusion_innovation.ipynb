{
 "cells": [
  {
   "cell_type": "markdown",
   "id": "bb243f37",
   "metadata": {},
   "source": [
    "### Prepare the environment"
   ]
  },
  {
   "cell_type": "code",
   "execution_count": 36,
   "id": "88e37e0a",
   "metadata": {},
   "outputs": [],
   "source": [
    "import pandas as pd\n",
    "from gensim.models.phrases import Phrases\n",
    "from gensim.parsing.preprocessing import preprocess_string\n",
    "from gensim.parsing.preprocessing import strip_tags\n",
    "from gensim.parsing.preprocessing import strip_short\n",
    "from gensim.parsing.preprocessing import strip_multiple_whitespaces\n",
    "from gensim.parsing.preprocessing import remove_stopwords\n",
    "from gensim.parsing.preprocessing import strip_numeric\n",
    "import re\n",
    "from gensim import utils\n",
    "from gensim.corpora.dictionary import Dictionary\n",
    "from gensim.models import ldamodel\n",
    "import pyLDAvis.gensim_models as gensim_models"
   ]
  },
  {
   "cell_type": "code",
   "execution_count": 18,
   "id": "8c4f25f8",
   "metadata": {},
   "outputs": [],
   "source": [
    "# removed \"_\" from regular expression\n",
    "punctuation = r\"\"\"!\"#$%&'()*+,-./:;<=>?@[\\]^`{|}~\"\"\"\n",
    "RE_PUNCT = re.compile(r'([%s])+' % re.escape(punctuation), re.UNICODE)\n",
    "\n",
    "\n",
    "def strip_punctuation(s):\n",
    "    s = utils.to_unicode(s)\n",
    "    return RE_PUNCT.sub(\" \", s)"
   ]
  },
  {
   "cell_type": "markdown",
   "id": "48522f7d",
   "metadata": {},
   "source": [
    "### Import dataset"
   ]
  },
  {
   "cell_type": "code",
   "execution_count": 7,
   "id": "3bb2845b",
   "metadata": {},
   "outputs": [
    {
     "name": "stdout",
     "output_type": "stream",
     "text": [
      "                                           knowledge  \\\n",
      "0                                     Share insights   \n",
      "1  Have a space that is central in which all pers...   \n",
      "2                     Share examples of how it works   \n",
      "3       Continuous exposure, upskilling and training   \n",
      "4  I would spread the responsibility and put in a...   \n",
      "\n",
      "                                          persuasion  \\\n",
      "0            Lead by example, do not lead on opinion   \n",
      "1  Describe the benefits and how it can lead to m...   \n",
      "2                     Share examples of how it works   \n",
      "3  Introduction presentations and demos of data d...   \n",
      "4  Selling the value and efficiency that it bring...   \n",
      "\n",
      "                                            decision  \\\n",
      "0                                      I do not know   \n",
      "1  Clear advantages - For an organisation and its...   \n",
      "2                Will the benefits outweigh the cons   \n",
      "3                       Cross platform compatibility   \n",
      "4  Whether you want to survive as an organisation...   \n",
      "\n",
      "              implementation  \\\n",
      "0                yes I would   \n",
      "1                        Yes   \n",
      "2  don't understand question   \n",
      "3                        yes   \n",
      "4                        Yes   \n",
      "\n",
      "                                        confirmation  \\\n",
      "0                                  Facts and figures   \n",
      "1  Before implementing the transformation a set o...   \n",
      "2  monitor things like sales, productivity, worke...   \n",
      "3  Streamlining/enhancement of the current proced...   \n",
      "4  Increase in usage of data / analytics tool. Ex...   \n",
      "\n",
      "                                            momentum  \n",
      "0                              Focus on the win-wins  \n",
      "1  Consistency & small changes - transformation s...  \n",
      "2                     Share examples of how it works  \n",
      "3  Acknowledge the barries and listen to the push...  \n",
      "4  Resolving the barriers as soon as possible and...  \n"
     ]
    }
   ],
   "source": [
    "df_text = pd.read_excel(open('diffusion_innovation_open_ended.xls','rb'), sheet_name='diffusion_innovation_open_ended')"
   ]
  },
  {
   "cell_type": "markdown",
   "id": "f7331734",
   "metadata": {},
   "source": [
    "### Knowledge topic model"
   ]
  },
  {
   "cell_type": "code",
   "execution_count": 22,
   "id": "b3572f77",
   "metadata": {},
   "outputs": [
    {
     "name": "stdout",
     "output_type": "stream",
     "text": [
      "['Share insights', 'Have a space that is central in which all person can access, where useful topics and trainings can be accessed.', 'Share examples of how it works', 'Continuous exposure, upskilling and training', 'I would spread the responsibility and put in a great amount of effort in upskilling and obtaining buy-in of non-IT departments']\n",
      "[['share', 'insights'], ['space', 'central', 'person', 'access', 'useful', 'topics', 'trainings', 'accessed'], ['share', 'examples', 'works'], ['continuous', 'exposure', 'upskilling', 'training'], ['spread', 'responsibility', 'great', 'effort', 'upskilling', 'obtaining', 'buy', 'non', 'departments']]\n"
     ]
    }
   ],
   "source": [
    "knowledge_stream = df_text['knowledge'].tolist()\n",
    "#Preprocess\n",
    "my_filter = [\n",
    "    lambda x: x.lower(), strip_tags, strip_punctuation,\n",
    "    strip_multiple_whitespaces, strip_numeric,\n",
    "    remove_stopwords, strip_short]\n",
    "\n",
    "bigram = Phrases(knowledge_stream, min_count=1, threshold=2)\n",
    "knowledge_bigrams = [\"\".join(bigram[i]) for i in knowledge_stream]\n",
    "knowledge_clean = [preprocess_string(i, filters=my_filter) for i in knowledge_bigrams]\n",
    "\n",
    "print(knowledge_clean[0:5])    "
   ]
  },
  {
   "cell_type": "code",
   "execution_count": 31,
   "id": "56bc48f3",
   "metadata": {},
   "outputs": [
    {
     "name": "stdout",
     "output_type": "stream",
     "text": [
      "435\n",
      "142\n"
     ]
    }
   ],
   "source": [
    "dct_knowledge = Dictionary(knowledge_clean)\n",
    "corpus = [dct_knowledge.doc2bow(doc) for doc in knowledge_clean]\n",
    "print(len(dct_knowledge))\n",
    "print(len(corpus))"
   ]
  },
  {
   "cell_type": "code",
   "execution_count": 29,
   "id": "10f49ebd",
   "metadata": {},
   "outputs": [
    {
     "data": {
      "text/plain": [
       "[(0,\n",
       "  '0.042*\"training\" + 0.022*\"skills\" + 0.017*\"people\" + 0.016*\"data\" + 0.014*\"knowledge\" + 0.013*\"work\" + 0.012*\"need\" + 0.012*\"tools\" + 0.012*\"teams\" + 0.009*\"sharing\"'),\n",
       " (1,\n",
       "  '0.046*\"training\" + 0.037*\"data\" + 0.026*\"sessions\" + 0.019*\"sharing\" + 0.017*\"knowledge\" + 0.016*\"people\" + 0.013*\"employees\" + 0.010*\"right\" + 0.010*\"create\" + 0.009*\"use\"'),\n",
       " (2,\n",
       "  '0.029*\"training\" + 0.019*\"knowledge\" + 0.018*\"data\" + 0.017*\"people\" + 0.016*\"sharing\" + 0.013*\"individuals\" + 0.010*\"send\" + 0.009*\"tools\" + 0.009*\"forums\" + 0.009*\"product\"'),\n",
       " (3,\n",
       "  '0.069*\"training\" + 0.022*\"employees\" + 0.014*\"business\" + 0.014*\"users\" + 0.014*\"data\" + 0.014*\"systems\" + 0.013*\"implement\" + 0.012*\"knowledge\" + 0.011*\"increase\" + 0.009*\"management\"'),\n",
       " (4,\n",
       "  '0.054*\"training\" + 0.026*\"knowledge\" + 0.019*\"share\" + 0.017*\"technology\" + 0.017*\"awareness\" + 0.013*\"product\" + 0.012*\"work\" + 0.009*\"sessions\" + 0.009*\"build\" + 0.009*\"workshops\"')]"
      ]
     },
     "execution_count": 29,
     "metadata": {},
     "output_type": "execute_result"
    }
   ],
   "source": [
    "lda = ldamodel.LdaModel(corpus, id2word=dct_knowledge, num_topics = 5)\n",
    "lda.show_topics(num_words=10)"
   ]
  },
  {
   "cell_type": "code",
   "execution_count": 38,
   "id": "8aec97d7",
   "metadata": {},
   "outputs": [
    {
     "name": "stderr",
     "output_type": "stream",
     "text": [
      "/Users/qxz1pey/opt/anaconda3/lib/python3.8/site-packages/past/builtins/misc.py:45: DeprecationWarning: the imp module is deprecated in favour of importlib; see the module's documentation for alternative uses\n",
      "  from imp import reload\n",
      "/Users/qxz1pey/opt/anaconda3/lib/python3.8/site-packages/past/builtins/misc.py:45: DeprecationWarning: the imp module is deprecated in favour of importlib; see the module's documentation for alternative uses\n",
      "  from imp import reload\n",
      "/Users/qxz1pey/opt/anaconda3/lib/python3.8/site-packages/past/builtins/misc.py:45: DeprecationWarning: the imp module is deprecated in favour of importlib; see the module's documentation for alternative uses\n",
      "  from imp import reload\n",
      "/Users/qxz1pey/opt/anaconda3/lib/python3.8/site-packages/past/builtins/misc.py:45: DeprecationWarning: the imp module is deprecated in favour of importlib; see the module's documentation for alternative uses\n",
      "  from imp import reload\n",
      "/Users/qxz1pey/opt/anaconda3/lib/python3.8/site-packages/past/builtins/misc.py:45: DeprecationWarning: the imp module is deprecated in favour of importlib; see the module's documentation for alternative uses\n",
      "  from imp import reload\n",
      "/Users/qxz1pey/opt/anaconda3/lib/python3.8/site-packages/past/builtins/misc.py:45: DeprecationWarning: the imp module is deprecated in favour of importlib; see the module's documentation for alternative uses\n",
      "  from imp import reload\n",
      "/Users/qxz1pey/opt/anaconda3/lib/python3.8/site-packages/past/builtins/misc.py:45: DeprecationWarning: the imp module is deprecated in favour of importlib; see the module's documentation for alternative uses\n",
      "  from imp import reload\n",
      "/Users/qxz1pey/opt/anaconda3/lib/python3.8/site-packages/past/builtins/misc.py:45: DeprecationWarning: the imp module is deprecated in favour of importlib; see the module's documentation for alternative uses\n",
      "  from imp import reload\n"
     ]
    }
   ],
   "source": [
    "vis = gensim_models.prepare(lda, corpus, dct_knowledge)\n",
    "pyLDAvis.save_html(vis, 'knowledge_lda.html')"
   ]
  },
  {
   "cell_type": "markdown",
   "id": "2d5d76e0",
   "metadata": {},
   "source": [
    "### Persuasion topic model"
   ]
  },
  {
   "cell_type": "code",
   "execution_count": 43,
   "id": "5ff8c711",
   "metadata": {},
   "outputs": [
    {
     "name": "stdout",
     "output_type": "stream",
     "text": [
      "['Lead by example, do not lead on opinion', 'Describe the benefits and how it can lead to more informed decisions and the accuracy using a data driven approach rather than gut-feeling or based on misinterpreted analysis.', 'Share examples of how it works', 'Introduction presentations and demos of data driven technologies', 'Selling the value and efficiency that it brings. This might require somebody working closely with the dept to understand were the value add lies.', 'training  workshops', 'Awards/Certificates for participation and different levels of competency. Possible implementation of ideas brought about through the contribution of the participants.', 'Highlight competitive advantage, highlight the existence of trends hidden in data, highlight the criticality of decisions based on trusted information, highlight the need to have an appetite for change (willingness to change direction based on observations within the data).', 'have a prominent display section in for instance the default home page of the intranet, with interesting facts that can only be obtained by analyzing data', 'Escalate issues  Access control']\n"
     ]
    },
    {
     "ename": "TypeError",
     "evalue": "decoding to str: need a bytes-like object, float found",
     "output_type": "error",
     "traceback": [
      "\u001b[0;31m---------------------------------------------------------------------------\u001b[0m",
      "\u001b[0;31mTypeError\u001b[0m                                 Traceback (most recent call last)",
      "\u001b[0;32m/var/folders/cp/t3t567056bx22d_x_7w7rk4skv8g8m/T/ipykernel_8543/49977155.py\u001b[0m in \u001b[0;36m<module>\u001b[0;34m\u001b[0m\n\u001b[1;32m      9\u001b[0m \u001b[0;31m#bigram = Phrases(persuasion_stream, min_count=1, threshold=2)\u001b[0m\u001b[0;34m\u001b[0m\u001b[0;34m\u001b[0m\u001b[0;34m\u001b[0m\u001b[0m\n\u001b[1;32m     10\u001b[0m \u001b[0;31m#persuasion_bigrams = [\"\".join(bigram[i]) for i in persuasion_stream]\u001b[0m\u001b[0;34m\u001b[0m\u001b[0;34m\u001b[0m\u001b[0;34m\u001b[0m\u001b[0m\n\u001b[0;32m---> 11\u001b[0;31m \u001b[0mpersuasion_clean\u001b[0m \u001b[0;34m=\u001b[0m \u001b[0;34m[\u001b[0m\u001b[0mpreprocess_string\u001b[0m\u001b[0;34m(\u001b[0m\u001b[0mi\u001b[0m\u001b[0;34m,\u001b[0m \u001b[0mfilters\u001b[0m\u001b[0;34m=\u001b[0m\u001b[0mmy_filter\u001b[0m\u001b[0;34m)\u001b[0m \u001b[0;32mfor\u001b[0m \u001b[0mi\u001b[0m \u001b[0;32min\u001b[0m \u001b[0mpersuasion_stream\u001b[0m\u001b[0;34m]\u001b[0m\u001b[0;34m\u001b[0m\u001b[0;34m\u001b[0m\u001b[0m\n\u001b[0m\u001b[1;32m     12\u001b[0m \u001b[0;34m\u001b[0m\u001b[0m\n\u001b[1;32m     13\u001b[0m \u001b[0mprint\u001b[0m\u001b[0;34m(\u001b[0m\u001b[0mpersuasion_clean\u001b[0m\u001b[0;34m[\u001b[0m\u001b[0;36m0\u001b[0m\u001b[0;34m:\u001b[0m\u001b[0;36m5\u001b[0m\u001b[0;34m]\u001b[0m\u001b[0;34m)\u001b[0m\u001b[0;34m\u001b[0m\u001b[0;34m\u001b[0m\u001b[0m\n",
      "\u001b[0;32m/var/folders/cp/t3t567056bx22d_x_7w7rk4skv8g8m/T/ipykernel_8543/49977155.py\u001b[0m in \u001b[0;36m<listcomp>\u001b[0;34m(.0)\u001b[0m\n\u001b[1;32m      9\u001b[0m \u001b[0;31m#bigram = Phrases(persuasion_stream, min_count=1, threshold=2)\u001b[0m\u001b[0;34m\u001b[0m\u001b[0;34m\u001b[0m\u001b[0;34m\u001b[0m\u001b[0m\n\u001b[1;32m     10\u001b[0m \u001b[0;31m#persuasion_bigrams = [\"\".join(bigram[i]) for i in persuasion_stream]\u001b[0m\u001b[0;34m\u001b[0m\u001b[0;34m\u001b[0m\u001b[0;34m\u001b[0m\u001b[0m\n\u001b[0;32m---> 11\u001b[0;31m \u001b[0mpersuasion_clean\u001b[0m \u001b[0;34m=\u001b[0m \u001b[0;34m[\u001b[0m\u001b[0mpreprocess_string\u001b[0m\u001b[0;34m(\u001b[0m\u001b[0mi\u001b[0m\u001b[0;34m,\u001b[0m \u001b[0mfilters\u001b[0m\u001b[0;34m=\u001b[0m\u001b[0mmy_filter\u001b[0m\u001b[0;34m)\u001b[0m \u001b[0;32mfor\u001b[0m \u001b[0mi\u001b[0m \u001b[0;32min\u001b[0m \u001b[0mpersuasion_stream\u001b[0m\u001b[0;34m]\u001b[0m\u001b[0;34m\u001b[0m\u001b[0;34m\u001b[0m\u001b[0m\n\u001b[0m\u001b[1;32m     12\u001b[0m \u001b[0;34m\u001b[0m\u001b[0m\n\u001b[1;32m     13\u001b[0m \u001b[0mprint\u001b[0m\u001b[0;34m(\u001b[0m\u001b[0mpersuasion_clean\u001b[0m\u001b[0;34m[\u001b[0m\u001b[0;36m0\u001b[0m\u001b[0;34m:\u001b[0m\u001b[0;36m5\u001b[0m\u001b[0;34m]\u001b[0m\u001b[0;34m)\u001b[0m\u001b[0;34m\u001b[0m\u001b[0;34m\u001b[0m\u001b[0m\n",
      "\u001b[0;32m~/opt/anaconda3/lib/python3.8/site-packages/gensim/parsing/preprocessing.py\u001b[0m in \u001b[0;36mpreprocess_string\u001b[0;34m(s, filters)\u001b[0m\n\u001b[1;32m    371\u001b[0m \u001b[0;34m\u001b[0m\u001b[0m\n\u001b[1;32m    372\u001b[0m     \"\"\"\n\u001b[0;32m--> 373\u001b[0;31m     \u001b[0ms\u001b[0m \u001b[0;34m=\u001b[0m \u001b[0mutils\u001b[0m\u001b[0;34m.\u001b[0m\u001b[0mto_unicode\u001b[0m\u001b[0;34m(\u001b[0m\u001b[0ms\u001b[0m\u001b[0;34m)\u001b[0m\u001b[0;34m\u001b[0m\u001b[0;34m\u001b[0m\u001b[0m\n\u001b[0m\u001b[1;32m    374\u001b[0m     \u001b[0;32mfor\u001b[0m \u001b[0mf\u001b[0m \u001b[0;32min\u001b[0m \u001b[0mfilters\u001b[0m\u001b[0;34m:\u001b[0m\u001b[0;34m\u001b[0m\u001b[0;34m\u001b[0m\u001b[0m\n\u001b[1;32m    375\u001b[0m         \u001b[0ms\u001b[0m \u001b[0;34m=\u001b[0m \u001b[0mf\u001b[0m\u001b[0;34m(\u001b[0m\u001b[0ms\u001b[0m\u001b[0;34m)\u001b[0m\u001b[0;34m\u001b[0m\u001b[0;34m\u001b[0m\u001b[0m\n",
      "\u001b[0;32m~/opt/anaconda3/lib/python3.8/site-packages/gensim/utils.py\u001b[0m in \u001b[0;36many2unicode\u001b[0;34m(text, encoding, errors)\u001b[0m\n\u001b[1;32m    366\u001b[0m     \u001b[0;32mif\u001b[0m \u001b[0misinstance\u001b[0m\u001b[0;34m(\u001b[0m\u001b[0mtext\u001b[0m\u001b[0;34m,\u001b[0m \u001b[0municode\u001b[0m\u001b[0;34m)\u001b[0m\u001b[0;34m:\u001b[0m\u001b[0;34m\u001b[0m\u001b[0;34m\u001b[0m\u001b[0m\n\u001b[1;32m    367\u001b[0m         \u001b[0;32mreturn\u001b[0m \u001b[0mtext\u001b[0m\u001b[0;34m\u001b[0m\u001b[0;34m\u001b[0m\u001b[0m\n\u001b[0;32m--> 368\u001b[0;31m     \u001b[0;32mreturn\u001b[0m \u001b[0municode\u001b[0m\u001b[0;34m(\u001b[0m\u001b[0mtext\u001b[0m\u001b[0;34m,\u001b[0m \u001b[0mencoding\u001b[0m\u001b[0;34m,\u001b[0m \u001b[0merrors\u001b[0m\u001b[0;34m=\u001b[0m\u001b[0merrors\u001b[0m\u001b[0;34m)\u001b[0m\u001b[0;34m\u001b[0m\u001b[0;34m\u001b[0m\u001b[0m\n\u001b[0m\u001b[1;32m    369\u001b[0m \u001b[0;34m\u001b[0m\u001b[0m\n\u001b[1;32m    370\u001b[0m \u001b[0;34m\u001b[0m\u001b[0m\n",
      "\u001b[0;31mTypeError\u001b[0m: decoding to str: need a bytes-like object, float found"
     ]
    }
   ],
   "source": [
    "persuasion_stream = df_text['persuasion'].tolist()\n",
    "print(persuasion_stream[0:10])\n",
    "#Preprocess\n",
    "my_filter = [\n",
    "    lambda x: x.lower(), strip_tags, strip_punctuation,\n",
    "    strip_multiple_whitespaces, strip_numeric,\n",
    "    remove_stopwords, strip_short]\n",
    "\n",
    "#bigram = Phrases(persuasion_stream, min_count=1, threshold=2)\n",
    "#persuasion_bigrams = [\"\".join(bigram[i]) for i in persuasion_stream]\n",
    "persuasion_clean = [preprocess_string(i, filters=my_filter) for i in persuasion_stream]\n",
    "\n",
    "print(persuasion_clean[0:5])   "
   ]
  },
  {
   "cell_type": "code",
   "execution_count": null,
   "id": "5ca7bb0f",
   "metadata": {},
   "outputs": [],
   "source": []
  }
 ],
 "metadata": {
  "kernelspec": {
   "display_name": "Python 3 (ipykernel)",
   "language": "python",
   "name": "python3"
  },
  "language_info": {
   "codemirror_mode": {
    "name": "ipython",
    "version": 3
   },
   "file_extension": ".py",
   "mimetype": "text/x-python",
   "name": "python",
   "nbconvert_exporter": "python",
   "pygments_lexer": "ipython3",
   "version": "3.8.8"
  }
 },
 "nbformat": 4,
 "nbformat_minor": 5
}
